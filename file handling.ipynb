{
 "cells": [
  {
   "cell_type": "markdown",
   "id": "b2e8bba6",
   "metadata": {},
   "source": [
    "# File creating\n"
   ]
  },
  {
   "cell_type": "code",
   "execution_count": 3,
   "id": "4c57e309",
   "metadata": {},
   "outputs": [
    {
     "name": "stdout",
     "output_type": "stream",
     "text": [
      "File Created\n"
     ]
    }
   ],
   "source": [
    "#open('file name','permission')\n",
    "a = \"hello python\"\n",
    "file = open('ak.txt','w')\n",
    "file.write(a)\n",
    "print('File Created')\n",
    "file.close()"
   ]
  },
  {
   "cell_type": "markdown",
   "id": "0922e38d",
   "metadata": {},
   "source": [
    "# File Read"
   ]
  },
  {
   "cell_type": "code",
   "execution_count": 6,
   "id": "117bfd4c",
   "metadata": {},
   "outputs": [
    {
     "name": "stdout",
     "output_type": "stream",
     "text": [
      "hello python\n"
     ]
    }
   ],
   "source": [
    "file = open('ak.txt','r')\n",
    "f = file.read()\n",
    "print(f)"
   ]
  },
  {
   "cell_type": "markdown",
   "id": "54ba2908",
   "metadata": {},
   "source": []
  },
  {
   "cell_type": "code",
   "execution_count": 7,
   "id": "27d7e39d",
   "metadata": {},
   "outputs": [],
   "source": []
  },
  {
   "cell_type": "code",
   "execution_count": null,
   "id": "a982b9c8",
   "metadata": {},
   "outputs": [],
   "source": []
  },
  {
   "cell_type": "code",
   "execution_count": null,
   "id": "c15fecb6",
   "metadata": {},
   "outputs": [],
   "source": []
  }
 ],
 "metadata": {
  "kernelspec": {
   "display_name": "Python 3 (ipykernel)",
   "language": "python",
   "name": "python3"
  },
  "language_info": {
   "codemirror_mode": {
    "name": "ipython",
    "version": 3
   },
   "file_extension": ".py",
   "mimetype": "text/x-python",
   "name": "python",
   "nbconvert_exporter": "python",
   "pygments_lexer": "ipython3",
   "version": "3.9.13"
  }
 },
 "nbformat": 4,
 "nbformat_minor": 5
}
