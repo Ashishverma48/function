{
 "cells": [
  {
   "cell_type": "code",
   "execution_count": 7,
   "id": "6d24888e",
   "metadata": {},
   "outputs": [
    {
     "name": "stdout",
     "output_type": "stream",
     "text": [
      "Num 2 is max -  33\n"
     ]
    }
   ],
   "source": [
    "# FIND MAX NUMBER FROM 3 NUMBER USING FUNCTION\n",
    "def max(num1,num2,num3):\n",
    "    if num1>num2 and num1>num3:\n",
    "        print('Num 1 is max - ',num1)\n",
    "    elif num2>num1 and num2>num3:\n",
    "        print('Num 2 is max - ',num2)\n",
    "    elif num3>num1 and num3>num2:\n",
    "        print('Num 3 is max - ',num3)\n",
    "max(12,33,3)"
   ]
  },
  {
   "cell_type": "code",
   "execution_count": 8,
   "id": "a77054af",
   "metadata": {},
   "outputs": [],
   "source": [
    "#  FIND MIN NUMBER FROM 3 NUMBER USING FUNCTION\n",
    "def min():\n",
    "    num1 = int(input('Enter The First Number - '))\n",
    "    num2 = int(input('Enter The Second Number - '))\n",
    "    num3 = int(input('Enter The Third Number - '))\n",
    "    if num1<num2 and num1<num3:\n",
    "        print('Num1 is Min - ',num1)\n",
    "    elif num2<num1 and num2<num3:\n",
    "        print('Num2 is Min - ',num2)\n",
    "    elif num3<num1 and num3<num2:\n",
    "        print('NUm3 is Min - ',num3)"
   ]
  },
  {
   "cell_type": "code",
   "execution_count": 9,
   "id": "211c9d9d",
   "metadata": {},
   "outputs": [
    {
     "name": "stdout",
     "output_type": "stream",
     "text": [
      "Enter The First Number - 344\n",
      "Enter The Second Number - 97\n",
      "Enter The Third Number - 67\n",
      "NUm3 is Min -  67\n"
     ]
    }
   ],
   "source": [
    "min()"
   ]
  },
  {
   "cell_type": "code",
   "execution_count": 10,
   "id": "21a435c7",
   "metadata": {},
   "outputs": [],
   "source": [
    "# sum all number present in list\n",
    "def list():\n",
    "    l = [12,3,45,566,55,4,34]\n",
    "    sum=0\n",
    "    for i in l:\n",
    "        sum=sum+i\n",
    "        print(sum)\n"
   ]
  },
  {
   "cell_type": "code",
   "execution_count": 11,
   "id": "63d5f93b",
   "metadata": {},
   "outputs": [
    {
     "name": "stdout",
     "output_type": "stream",
     "text": [
      "12\n",
      "15\n",
      "60\n",
      "626\n",
      "681\n",
      "685\n",
      "719\n"
     ]
    }
   ],
   "source": [
    "list()"
   ]
  },
  {
   "cell_type": "code",
   "execution_count": 16,
   "id": "a1dc78b7",
   "metadata": {},
   "outputs": [],
   "source": [
    "# find odd number using function\n",
    "def odd():\n",
    "    for i in range(1,11):\n",
    "        if i%2!=0:\n",
    "            print('Odd - ',i)\n",
    "    "
   ]
  },
  {
   "cell_type": "code",
   "execution_count": 17,
   "id": "21f129aa",
   "metadata": {},
   "outputs": [
    {
     "name": "stdout",
     "output_type": "stream",
     "text": [
      "Odd -  1\n",
      "Odd -  3\n",
      "Odd -  5\n",
      "Odd -  7\n",
      "Odd -  9\n"
     ]
    }
   ],
   "source": [
    "odd()"
   ]
  },
  {
   "cell_type": "code",
   "execution_count": 30,
   "id": "19a6c48f",
   "metadata": {},
   "outputs": [],
   "source": [
    "# find even number using function\n",
    "def even():\n",
    "    for i in range(1,11):\n",
    "        if i%2==0:\n",
    "            print(\"EVEN - \",i)\n",
    "\n",
    "        "
   ]
  },
  {
   "cell_type": "code",
   "execution_count": 31,
   "id": "960f97e5",
   "metadata": {},
   "outputs": [
    {
     "name": "stdout",
     "output_type": "stream",
     "text": [
      "EVEN -  2\n",
      "EVEN -  4\n",
      "EVEN -  6\n",
      "EVEN -  8\n",
      "EVEN -  10\n"
     ]
    }
   ],
   "source": [
    "even()"
   ]
  },
  {
   "cell_type": "code",
   "execution_count": 42,
   "id": "12e03573",
   "metadata": {},
   "outputs": [],
   "source": [
    "# wap to sum the first 10 natural numbe using python\n",
    "def number():\n",
    "    sum=0\n",
    "    for i in range(1,11):\n",
    "        sum=sum+i\n",
    "        print(sum)\n"
   ]
  },
  {
   "cell_type": "code",
   "execution_count": 43,
   "id": "54b01f51",
   "metadata": {},
   "outputs": [
    {
     "name": "stdout",
     "output_type": "stream",
     "text": [
      "1\n",
      "3\n",
      "6\n",
      "10\n",
      "15\n",
      "21\n",
      "28\n",
      "36\n",
      "45\n",
      "55\n"
     ]
    }
   ],
   "source": [
    "number()"
   ]
  },
  {
   "cell_type": "code",
   "execution_count": 44,
   "id": "117ddfa1",
   "metadata": {},
   "outputs": [],
   "source": [
    "# claculate the percentage of 5 students\n",
    "def per(stu1,stu2,stu3,stu4,stu5):\n",
    "    total = stu1+stu2+stu3+stu4+stu5\n",
    "    per = total/5\n",
    "    print('Per is - ',per)"
   ]
  },
  {
   "cell_type": "code",
   "execution_count": 46,
   "id": "3e8b3eb2",
   "metadata": {},
   "outputs": [
    {
     "name": "stdout",
     "output_type": "stream",
     "text": [
      "Per is -  59.668000000000006\n"
     ]
    }
   ],
   "source": [
    "per(65,44.34,34,67,88)"
   ]
  },
  {
   "cell_type": "code",
   "execution_count": null,
   "id": "dbcfa365",
   "metadata": {},
   "outputs": [],
   "source": []
  }
 ],
 "metadata": {
  "kernelspec": {
   "display_name": "Python 3 (ipykernel)",
   "language": "python",
   "name": "python3"
  },
  "language_info": {
   "codemirror_mode": {
    "name": "ipython",
    "version": 3
   },
   "file_extension": ".py",
   "mimetype": "text/x-python",
   "name": "python",
   "nbconvert_exporter": "python",
   "pygments_lexer": "ipython3",
   "version": "3.9.13"
  }
 },
 "nbformat": 4,
 "nbformat_minor": 5
}
