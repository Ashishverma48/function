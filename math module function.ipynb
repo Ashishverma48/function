{
 "cells": [
  {
   "cell_type": "code",
   "execution_count": 4,
   "id": "a7465b3b",
   "metadata": {},
   "outputs": [
    {
     "name": "stdout",
     "output_type": "stream",
     "text": [
      "40320\n",
      "3628800\n"
     ]
    }
   ],
   "source": [
    "# import math\n",
    "#from math import function():\n",
    "\n",
    "# factorial\n",
    "\n",
    "import math\n",
    "print(math.factorial(8))\n",
    "print(math.factorial(10))   # factorial value"
   ]
  },
  {
   "cell_type": "code",
   "execution_count": 6,
   "id": "e2b08641",
   "metadata": {},
   "outputs": [
    {
     "name": "stdout",
     "output_type": "stream",
     "text": [
      "-1\n"
     ]
    }
   ],
   "source": [
    "# ceil()    \n",
    "\n",
    "import math\n",
    "print(math.ceil(1.344))   # upper round value"
   ]
  },
  {
   "cell_type": "code",
   "execution_count": 7,
   "id": "bda7ccf1",
   "metadata": {},
   "outputs": [
    {
     "name": "stdout",
     "output_type": "stream",
     "text": [
      "2\n"
     ]
    }
   ],
   "source": [
    "# floor()\n",
    "\n",
    "import math\n",
    "print(math.floor(2.333))    # down round value"
   ]
  },
  {
   "cell_type": "code",
   "execution_count": 12,
   "id": "e40c9e54",
   "metadata": {},
   "outputs": [
    {
     "name": "stdout",
     "output_type": "stream",
     "text": [
      "4.47213595499958\n"
     ]
    }
   ],
   "source": [
    "# sqrt()     # squre root\n",
    "import math\n",
    "print(math.sqrt(20))"
   ]
  },
  {
   "cell_type": "code",
   "execution_count": 18,
   "id": "d026076d",
   "metadata": {},
   "outputs": [
    {
     "name": "stdout",
     "output_type": "stream",
     "text": [
      "125.0\n"
     ]
    }
   ],
   "source": [
    "# pow()   power of\n",
    "\n",
    "import math\n",
    "print(math.pow(5,3))"
   ]
  },
  {
   "cell_type": "code",
   "execution_count": null,
   "id": "9dae3310",
   "metadata": {},
   "outputs": [],
   "source": []
  }
 ],
 "metadata": {
  "kernelspec": {
   "display_name": "Python 3 (ipykernel)",
   "language": "python",
   "name": "python3"
  },
  "language_info": {
   "codemirror_mode": {
    "name": "ipython",
    "version": 3
   },
   "file_extension": ".py",
   "mimetype": "text/x-python",
   "name": "python",
   "nbconvert_exporter": "python",
   "pygments_lexer": "ipython3",
   "version": "3.9.13"
  }
 },
 "nbformat": 4,
 "nbformat_minor": 5
}
