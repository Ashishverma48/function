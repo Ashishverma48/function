{
 "cells": [
  {
   "cell_type": "markdown",
   "id": "198ec8b8",
   "metadata": {},
   "source": [
    "# user define function"
   ]
  },
  {
   "cell_type": "code",
   "execution_count": 7,
   "id": "29d91f06",
   "metadata": {},
   "outputs": [
    {
     "name": "stdout",
     "output_type": "stream",
     "text": [
      "hello world\n"
     ]
    }
   ],
   "source": [
    "def hello():\n",
    "    print(\"hello world\")\n",
    "hello()"
   ]
  },
  {
   "cell_type": "code",
   "execution_count": 8,
   "id": "e55290e5",
   "metadata": {},
   "outputs": [
    {
     "name": "stdout",
     "output_type": "stream",
     "text": [
      "A  133\n"
     ]
    }
   ],
   "source": [
    "#creating function\n",
    "def myfunction(a):\n",
    "    print(\"A \",a)\n",
    "#calling function\n",
    "myfunction(133)\n",
    "    \n",
    "    "
   ]
  },
  {
   "cell_type": "code",
   "execution_count": 10,
   "id": "bc6a257c",
   "metadata": {},
   "outputs": [
    {
     "name": "stdout",
     "output_type": "stream",
     "text": [
      "32 443\n"
     ]
    }
   ],
   "source": [
    "# multiple argument in function\n",
    "def fun(a,b):\n",
    "    print(a,b)\n",
    "fun(32,443)"
   ]
  },
  {
   "cell_type": "code",
   "execution_count": 14,
   "id": "502c9b78",
   "metadata": {},
   "outputs": [
    {
     "name": "stdout",
     "output_type": "stream",
     "text": [
      "ram shyam geeta\n"
     ]
    }
   ],
   "source": [
    "# keawords argument\n",
    "\n",
    "#creating function\n",
    "def function(child1,child2,child3):\n",
    "    print(child1,child2,child3)\n",
    "function('ram','shyam','geeta')"
   ]
  },
  {
   "cell_type": "code",
   "execution_count": null,
   "id": "79f37ec1",
   "metadata": {},
   "outputs": [],
   "source": [
    "# defult parameter value"
   ]
  },
  {
   "cell_type": "code",
   "execution_count": 20,
   "id": "febf059d",
   "metadata": {},
   "outputs": [
    {
     "name": "stdout",
     "output_type": "stream",
     "text": [
      "I AM FROM  Haryan\n",
      "I AM FROM  Punjab\n",
      "I AM FROM  Delhi\n",
      "I AM FROM  Rajsthan\n",
      "I AM FROM  UP\n"
     ]
    }
   ],
   "source": [
    "def fun(state = 'UP'):\n",
    "    print(\"I AM FROM \",state)\n",
    "fun('Haryan')\n",
    "fun('Punjab')\n",
    "fun('Delhi')\n",
    "fun('Rajsthan')\n",
    "fun()"
   ]
  },
  {
   "cell_type": "code",
   "execution_count": 24,
   "id": "3124f73a",
   "metadata": {},
   "outputs": [
    {
     "name": "stdout",
     "output_type": "stream",
     "text": [
      "APPLE\n",
      "MANGO\n",
      "BANANA\n"
     ]
    }
   ],
   "source": [
    "# passing a list into function\n",
    "def fun(fruit):\n",
    "    for i in fruit:\n",
    "        print(i)\n",
    "a=['APPLE','MANGO','BANANA']\n",
    "#calling a function\n",
    "fun(a)"
   ]
  },
  {
   "cell_type": "code",
   "execution_count": 29,
   "id": "29b2644e",
   "metadata": {},
   "outputs": [
    {
     "name": "stdout",
     "output_type": "stream",
     "text": [
      "25\n",
      "20\n",
      "35\n"
     ]
    }
   ],
   "source": [
    "# return value from function\n",
    "def fun(x):\n",
    "    return x*5\n",
    "#callimg a function\n",
    "print(fun(5))\n",
    "print(fun(4))\n",
    "print(fun(7))"
   ]
  },
  {
   "cell_type": "code",
   "execution_count": 31,
   "id": "a1826a2e",
   "metadata": {},
   "outputs": [
    {
     "name": "stdout",
     "output_type": "stream",
     "text": [
      "99\n"
     ]
    }
   ],
   "source": [
    "# Lambda Function\n",
    "# Creating  Funcfion\n",
    "x = lambda a:a+10\n",
    "print(x(89))"
   ]
  },
  {
   "cell_type": "code",
   "execution_count": 33,
   "id": "0d9fae90",
   "metadata": {},
   "outputs": [
    {
     "name": "stdout",
     "output_type": "stream",
     "text": [
      "14\n"
     ]
    }
   ],
   "source": [
    "y=lambda a,b:a*b\n",
    "print(y(2,7))"
   ]
  },
  {
   "cell_type": "code",
   "execution_count": 36,
   "id": "96e51c21",
   "metadata": {},
   "outputs": [
    {
     "name": "stdout",
     "output_type": "stream",
     "text": [
      "45\n",
      "33\n"
     ]
    }
   ],
   "source": [
    "# GLOBAL VARIABLE\n",
    "z=45\n",
    "def fun():\n",
    "    global z\n",
    "    print(z)\n",
    "    z=33\n",
    "fun()\n",
    "print(z)"
   ]
  },
  {
   "cell_type": "code",
   "execution_count": 37,
   "id": "89ef2d4b",
   "metadata": {},
   "outputs": [
    {
     "name": "stdout",
     "output_type": "stream",
     "text": [
      "56\n"
     ]
    }
   ],
   "source": [
    "# LOCAL VARIABLE\n",
    "def sum(a,b):\n",
    "    sum=a+b\n",
    "    print(sum)\n",
    "sum(23,33)"
   ]
  },
  {
   "cell_type": "code",
   "execution_count": null,
   "id": "0bc588ad",
   "metadata": {},
   "outputs": [],
   "source": []
  }
 ],
 "metadata": {
  "kernelspec": {
   "display_name": "Python 3 (ipykernel)",
   "language": "python",
   "name": "python3"
  },
  "language_info": {
   "codemirror_mode": {
    "name": "ipython",
    "version": 3
   },
   "file_extension": ".py",
   "mimetype": "text/x-python",
   "name": "python",
   "nbconvert_exporter": "python",
   "pygments_lexer": "ipython3",
   "version": "3.9.13"
  }
 },
 "nbformat": 4,
 "nbformat_minor": 5
}
