{
 "cells": [
  {
   "cell_type": "code",
   "execution_count": 1,
   "id": "8a4ed1cf",
   "metadata": {},
   "outputs": [
    {
     "name": "stdout",
     "output_type": "stream",
     "text": [
      "welcome\n"
     ]
    }
   ],
   "source": [
    "def hello():\n",
    "    print('welcome')\n",
    "hello()"
   ]
  },
  {
   "cell_type": "code",
   "execution_count": 6,
   "id": "baf5657d",
   "metadata": {},
   "outputs": [
    {
     "name": "stdout",
     "output_type": "stream",
     "text": [
      "45\n"
     ]
    }
   ],
   "source": [
    "def add():\n",
    "    a=22\n",
    "    b=23\n",
    "    c=a+b\n",
    "    print(c)\n",
    "add()"
   ]
  },
  {
   "cell_type": "code",
   "execution_count": null,
   "id": "bfa5bf8c",
   "metadata": {},
   "outputs": [],
   "source": [
    "# no argument no return\n",
    "#no argument with return\n",
    "#with argument no return\n",
    "#with argument with return"
   ]
  },
  {
   "cell_type": "code",
   "execution_count": 7,
   "id": "bc3c19ea",
   "metadata": {},
   "outputs": [
    {
     "name": "stdout",
     "output_type": "stream",
     "text": [
      "enter the number 2326\n",
      "enter the number22\n",
      "2348\n"
     ]
    }
   ],
   "source": [
    "def add():\n",
    "    a=int(input(\"enter the number \"))\n",
    "    b= int(input(\"enter the number \"))\n",
    "    c=a+b\n",
    "    print(c)\n",
    "add()"
   ]
  },
  {
   "cell_type": "code",
   "execution_count": 9,
   "id": "7fc32a8d",
   "metadata": {},
   "outputs": [
    {
     "name": "stdout",
     "output_type": "stream",
     "text": [
      "23\n"
     ]
    }
   ],
   "source": [
    "# with argument with re\n",
    "def add(a,b):\n",
    "    c=a+b\n",
    "    print(c)\n",
    "add(21,2)\n",
    "    "
   ]
  },
  {
   "cell_type": "code",
   "execution_count": 10,
   "id": "7930c631",
   "metadata": {},
   "outputs": [
    {
     "data": {
      "text/plain": [
       "34"
      ]
     },
     "execution_count": 10,
     "metadata": {},
     "output_type": "execute_result"
    }
   ],
   "source": [
    "def add(a,b):\n",
    "    c=a+b\n",
    "    return c\n",
    "add(12,22)"
   ]
  },
  {
   "cell_type": "code",
   "execution_count": 13,
   "id": "10e68002",
   "metadata": {},
   "outputs": [
    {
     "data": {
      "text/plain": [
       "55"
      ]
     },
     "execution_count": 13,
     "metadata": {},
     "output_type": "execute_result"
    }
   ],
   "source": [
    "#no argument with return\n",
    "def add():\n",
    "    a=33\n",
    "    b=22\n",
    "    c=a+b\n",
    "    return c\n",
    "add()"
   ]
  },
  {
   "cell_type": "code",
   "execution_count": 1,
   "id": "c3a14992",
   "metadata": {},
   "outputs": [],
   "source": [
    "# find maximum number from 3 number using function\n",
    "def max():\n",
    "    a=12\n",
    "    b=23\n",
    "    c=54\n",
    "    if a>b and a>c:\n",
    "        print(a)\n",
    "    elif b>a and b>c:\n",
    "        print(b)\n",
    "    elif c>a and c>a:\n",
    "        print(c)"
   ]
  },
  {
   "cell_type": "code",
   "execution_count": 2,
   "id": "8f30316d",
   "metadata": {},
   "outputs": [
    {
     "name": "stdout",
     "output_type": "stream",
     "text": [
      "54\n"
     ]
    }
   ],
   "source": [
    "max()"
   ]
  },
  {
   "cell_type": "code",
   "execution_count": 3,
   "id": "c2fa7ebc",
   "metadata": {},
   "outputs": [],
   "source": [
    "#find miminum number in from 3 number using function\n",
    "def min(a,b,c):\n",
    "    if a<b and a<c:\n",
    "        print(a)\n",
    "    elif b<a and b<c:\n",
    "        print(b)\n",
    "    elif c<a and c<b:\n",
    "        print(c)\n",
    "\n"
   ]
  },
  {
   "cell_type": "code",
   "execution_count": 4,
   "id": "81f1ac71",
   "metadata": {},
   "outputs": [
    {
     "name": "stdout",
     "output_type": "stream",
     "text": [
      "12\n"
     ]
    }
   ],
   "source": [
    "min(12,23,543)"
   ]
  },
  {
   "cell_type": "code",
   "execution_count": 5,
   "id": "503ad298",
   "metadata": {},
   "outputs": [],
   "source": [
    "# sum all number in list\n",
    "def list():\n",
    "    a=[11,23,45,66]\n",
    "    sum=0\n",
    "    for i in a:\n",
    "        sum=sum+i\n",
    "        print(sum)"
   ]
  },
  {
   "cell_type": "code",
   "execution_count": 6,
   "id": "c0da5422",
   "metadata": {},
   "outputs": [
    {
     "name": "stdout",
     "output_type": "stream",
     "text": [
      "11\n",
      "34\n",
      "79\n",
      "145\n"
     ]
    }
   ],
   "source": [
    "list()"
   ]
  },
  {
   "cell_type": "code",
   "execution_count": 28,
   "id": "23d12d02",
   "metadata": {},
   "outputs": [],
   "source": [
    "# find odd number using function\n",
    "def odd():\n",
    "    for i in range(1,11):\n",
    "        if i%2!=0:\n",
    "            print('odd',i)\n",
    "    "
   ]
  },
  {
   "cell_type": "code",
   "execution_count": 30,
   "id": "4885a42a",
   "metadata": {},
   "outputs": [
    {
     "name": "stdout",
     "output_type": "stream",
     "text": [
      "odd 1\n",
      "odd 3\n",
      "odd 5\n",
      "odd 7\n",
      "odd 9\n"
     ]
    }
   ],
   "source": [
    "odd()"
   ]
  },
  {
   "cell_type": "code",
   "execution_count": 31,
   "id": "e5c072dd",
   "metadata": {},
   "outputs": [],
   "source": [
    "def even():\n",
    "    for i in  range(1,11):\n",
    "        if i%2==0:\n",
    "            print('EVEN',i)"
   ]
  },
  {
   "cell_type": "code",
   "execution_count": 32,
   "id": "3f0aaad3",
   "metadata": {},
   "outputs": [
    {
     "name": "stdout",
     "output_type": "stream",
     "text": [
      "EVEN 2\n",
      "EVEN 4\n",
      "EVEN 6\n",
      "EVEN 8\n",
      "EVEN 10\n"
     ]
    }
   ],
   "source": [
    "even()"
   ]
  },
  {
   "cell_type": "code",
   "execution_count": 35,
   "id": "b7d3d874",
   "metadata": {},
   "outputs": [],
   "source": [
    "# calculate the percentage of 5 student\n",
    "def per():\n",
    "    total = 33+83+37+86+87\n",
    "    per = (total/500)*100\n",
    "    print(per)"
   ]
  },
  {
   "cell_type": "code",
   "execution_count": 36,
   "id": "78e1aa18",
   "metadata": {},
   "outputs": [
    {
     "name": "stdout",
     "output_type": "stream",
     "text": [
      "65.2\n"
     ]
    }
   ],
   "source": [
    "per()"
   ]
  },
  {
   "cell_type": "code",
   "execution_count": 37,
   "id": "799be1ea",
   "metadata": {},
   "outputs": [],
   "source": [
    "# calculate the percentage of 5 student \n",
    "def per(s1,s2,s3,s4,s5):\n",
    "    total = s1+s2+s3+s4+s5\n",
    "    per = (total/5)\n",
    "    print(per)"
   ]
  },
  {
   "cell_type": "code",
   "execution_count": 44,
   "id": "91ffb51b",
   "metadata": {},
   "outputs": [
    {
     "name": "stdout",
     "output_type": "stream",
     "text": [
      "81.0\n"
     ]
    }
   ],
   "source": [
    "per(88,98,78,78,63)"
   ]
  },
  {
   "cell_type": "code",
   "execution_count": 66,
   "id": "c8ea77c4",
   "metadata": {},
   "outputs": [
    {
     "name": "stdout",
     "output_type": "stream",
     "text": [
      "1\n",
      "3\n",
      "6\n",
      "10\n",
      "15\n",
      "21\n",
      "28\n",
      "36\n",
      "45\n",
      "55\n"
     ]
    }
   ],
   "source": [
    "# Wap to sum the first 10 natural numbers using function?\n",
    "def sum():\n",
    "    sum=0\n",
    "    for i in range(1,11):\n",
    "        sum=sum+i\n",
    "        print(sum)\n",
    "        i=i+1\n",
    "sum()"
   ]
  },
  {
   "cell_type": "code",
   "execution_count": null,
   "id": "a5173635",
   "metadata": {},
   "outputs": [],
   "source": []
  },
  {
   "cell_type": "code",
   "execution_count": null,
   "id": "fbbddb18",
   "metadata": {},
   "outputs": [],
   "source": []
  }
 ],
 "metadata": {
  "kernelspec": {
   "display_name": "Python 3 (ipykernel)",
   "language": "python",
   "name": "python3"
  },
  "language_info": {
   "codemirror_mode": {
    "name": "ipython",
    "version": 3
   },
   "file_extension": ".py",
   "mimetype": "text/x-python",
   "name": "python",
   "nbconvert_exporter": "python",
   "pygments_lexer": "ipython3",
   "version": "3.9.13"
  }
 },
 "nbformat": 4,
 "nbformat_minor": 5
}
